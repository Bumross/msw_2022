{
 "cells": [
  {
   "cell_type": "markdown",
   "metadata": {},
   "source": [
    "### 9. Integrace funkce jedné proměnné"
   ]
  },
  {
   "cell_type": "code",
   "execution_count": 21,
   "metadata": {},
   "outputs": [
    {
     "name": "stdout",
     "output_type": "stream",
     "text": [
      "Funkce 1\n",
      "Riemann - lichoběžník 13.473800499999733\n",
      "Riemann - čtverec 13.333333333333336\n",
      "Simpson 13.333333333333334\n",
      "Romberg 13.333333333333334\n",
      "\n",
      "Funkce 2\n",
      "Riemann - lichoběžník 8.62265896921728\n",
      "Riemann - čtverec 8.572750016749103\n",
      "Simpson 8.572750017413442\n",
      "Romberg 8.572750016928191\n",
      "\n",
      "Funkce 3\n",
      "Riemann - lichoběžník 55907.66361087984\n",
      "Riemann - čtverec 54251.26380101781\n",
      "Simpson 54251.264050439175\n",
      "Romberg 54251.263806338655\n"
     ]
    }
   ],
   "source": [
    "import numpy as np\n",
    "from numpy import sin, log\n",
    "import matplotlib.pyplot as plt\n",
    "from scipy import integrate\n",
    "\n",
    "f_1 = lambda x : x**2 - 2\n",
    "f_2 = lambda x : sin(2*x) + x\n",
    "f_3 = lambda x : np.exp(3*x)\n",
    "\n",
    "def riemann_lichobeznik(funkce, a, b, presnost = 0.01):\n",
    "    integral = 0\n",
    "    while a < b:\n",
    "        integral += presnost * (funkce(a) + funkce(a + presnost))/2\n",
    "        a += presnost\n",
    "    return integral\n",
    "\n",
    "def riemann_ctverec(funkce, a, b):\n",
    "    return integrate.quadrature(funkce, a ,b)\n",
    "\n",
    "def simpson(funkce, a, b, presnost = 0.01):\n",
    "    return integrate.simpson(funkce(np.arange(a, b+presnost, presnost)), np.arange(a, b+presnost, presnost))\n",
    "\n",
    "def romberg(funkce, a, b):\n",
    "    return integrate.romberg(funkce, a, b)\n",
    "\n",
    "print(\"Funkce 1\")\n",
    "print(f\"Riemann - lichoběžník {riemann_lichobeznik(f_1, 0, 4)}\")\n",
    "print(f\"Riemann - čtverec {riemann_ctverec(f_1, 0, 4)[0]}\")\n",
    "print(f\"Simpson {simpson(f_1, 0, 4)}\")\n",
    "print(f\"Romberg {romberg(f_1, 0, 4)}\")\n",
    "\n",
    "print(\"\\nFunkce 2\")\n",
    "print(f\"Riemann - lichoběžník {riemann_lichobeznik(f_2, 0, 4)}\")\n",
    "print(f\"Riemann - čtverec {riemann_ctverec(f_2, 0, 4)[0]}\")\n",
    "print(f\"Simpson {simpson(f_2, 0, 4)}\")\n",
    "print(f\"Romberg {romberg(f_2, 0, 4)}\")\n",
    "\n",
    "print(\"\\nFunkce 3\")\n",
    "print(f\"Riemann - lichoběžník {riemann_lichobeznik(f_3, 0, 4)}\")\n",
    "print(f\"Riemann - čtverec {riemann_ctverec(f_3, 0, 4)[0]}\")\n",
    "print(f\"Simpson {simpson(f_3, 0, 4)}\")\n",
    "print(f\"Romberg {romberg(f_3, 0, 4)}\")"
   ]
  }
 ],
 "metadata": {
  "interpreter": {
   "hash": "d9ed74bc2b01a6ca8adeca51a7f7b69f654e210705af0e04fd6b76d0576b2bd9"
  },
  "kernelspec": {
   "display_name": "Python 3.10.4 ('venv': venv)",
   "language": "python",
   "name": "python3"
  },
  "language_info": {
   "codemirror_mode": {
    "name": "ipython",
    "version": 3
   },
   "file_extension": ".py",
   "mimetype": "text/x-python",
   "name": "python",
   "nbconvert_exporter": "python",
   "pygments_lexer": "ipython3",
   "version": "3.10.4"
  },
  "orig_nbformat": 4
 },
 "nbformat": 4,
 "nbformat_minor": 2
}
