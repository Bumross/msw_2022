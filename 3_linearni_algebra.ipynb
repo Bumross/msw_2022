{
 "cells": [
  {
   "cell_type": "markdown",
   "metadata": {},
   "source": [
    "### 3. Lineární algebra"
   ]
  },
  {
   "cell_type": "code",
   "execution_count": 3,
   "metadata": {},
   "outputs": [
    {
     "name": "stderr",
     "output_type": "stream",
     "text": [
      "C:\\Users\\bruli\\AppData\\Local\\Temp\\ipykernel_1948\\3356375184.py:22: RuntimeWarning: divide by zero encountered in true_divide\n",
      "  x = (vektor - np.matmul((L + U),x))/D\n",
      "C:\\Users\\bruli\\AppData\\Local\\Temp\\ipykernel_1948\\3356375184.py:22: RuntimeWarning: invalid value encountered in matmul\n",
      "  x = (vektor - np.matmul((L + U),x))/D\n"
     ]
    },
    {
     "data": {
      "image/png": "[encoded data removed]",
      "text/plain": [
       "<Figure size 432x288 with 1 Axes>"
      ]
     },
     "metadata": {
      "needs_background": "light"
     },
     "output_type": "display_data"
    }
   ],
   "source": [
    "import random\n",
    "import numpy as np\n",
    "import matplotlib.pyplot as plt\n",
    "from time import process_time\n",
    "\n",
    "def vytvor_ctvercovou_matici(n):\n",
    "    return np.array([[random.randint(-20, 20) for i in range(n)] for j in range(n)])\n",
    "\n",
    "def vytvor_vektor(n):\n",
    "    return np.array([random.randint(-20, 20) for i in range(n)])\n",
    "\n",
    "def gaussova_prima_metoda(matice, vektor):\n",
    "    return list(np.linalg.solve(matice, vektor))\n",
    "\n",
    "def jacobiho_iteracni_metoda(matice, vektor, opakovani=5, x=None):\n",
    "    if not x:\n",
    "        x = np.ones(len(matice))\n",
    "    D = np.diag(matice)\n",
    "    L = np.tril(matice, k = -1)\n",
    "    U = np.triu(matice, k = 1 )\n",
    "    for i in range(opakovani):\n",
    "        x = (vektor - np.matmul((L + U),x))/D\n",
    "    return list(x)\n",
    "\n",
    "i_time = []\n",
    "p_time = []\n",
    "velikost = []\n",
    "\n",
    "for i in range(1,100):\n",
    "    matice = vytvor_ctvercovou_matici(i)\n",
    "    vektor = vytvor_vektor(i)\n",
    "    velikost.append(i)\n",
    "\n",
    "    #iteracni\n",
    "    i_start = process_time()\n",
    "    jacobiho_iteracni_metoda(matice, vektor)\n",
    "    i_konec = process_time()\n",
    "\n",
    "    #prima\n",
    "    p_start = process_time()\n",
    "    gaussova_prima_metoda(matice, vektor)\n",
    "    p_konec = process_time()\n",
    "\n",
    "    p_time.append(p_konec - p_start)\n",
    "    i_time.append(i_konec - i_start)\n",
    "\n",
    "plt.plot(velikost, i_time)\n",
    "plt.plot(velikost, p_time)\n",
    "plt.show()"
   ]
  }
 ],
 "metadata": {
  "interpreter": {
   "hash": "d9ed74bc2b01a6ca8adeca51a7f7b69f654e210705af0e04fd6b76d0576b2bd9"
  },
  "kernelspec": {
   "display_name": "Python 3.10.4 ('venv': venv)",
   "language": "python",
   "name": "python3"
  },
  "language_info": {
   "codemirror_mode": {
    "name": "ipython",
    "version": 3
   },
   "file_extension": ".py",
   "mimetype": "text/x-python",
   "name": "python",
   "nbconvert_exporter": "python",
   "pygments_lexer": "ipython3",
   "version": "3.10.4"
  },
  "orig_nbformat": 4
 },
 "nbformat": 4,
 "nbformat_minor": 2
}
