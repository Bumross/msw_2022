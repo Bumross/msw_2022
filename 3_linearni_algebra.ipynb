{
 "cells": [
  {
   "cell_type": "code",
   "execution_count": 16,
   "metadata": {},
   "outputs": [
    {
     "name": "stdout",
     "output_type": "stream",
     "text": [
      "[[-12  20]\n",
      " [ 17  -8]]\n",
      "[[ -3  19  20]\n",
      " [  2  -6   2]\n",
      " [-13   6 -19]]\n",
      "[[  8  -2  11  -9]\n",
      " [  5 -10 -17 -16]\n",
      " [ 14 -17  18 -11]\n",
      " [-14   3  -2  16]]\n",
      "[ 14  18 -10]\n",
      "[7.11111111111111, -3.2222222222222214]\n"
     ]
    },
    {
     "data": {
      "text/plain": [
       "[7.069792348426251, -3.2034996578806454]"
      ]
     },
     "execution_count": 16,
     "metadata": {},
     "output_type": "execute_result"
    }
   ],
   "source": [
    "import random\n",
    "from numpy import array, zeros, diag, diagflat, dot, tril, triu\n",
    "import numpy as np\n",
    "\n",
    "\n",
    "def vytvor_ctvercovou_matici(n):\n",
    "    return np.array([[random.randint(-20, 20) for i in range(n)] for j in range(n)])\n",
    "\n",
    "def vytvor_vektor(n):\n",
    "    return np.array([random.randint(-20, 20) for i in range(n)])\n",
    "\n",
    "def gaussova_prima_metoda(matice, vektor):\n",
    "    return list(np.linalg.solve(matice, vektor))\n",
    "\n",
    "def jacobiho_iteracni_metoda(matice, vektor, opakovani=10, x=None):\n",
    "    if not x:\n",
    "        x = zeros(len(matice[0]))\n",
    "    D = diag(matice)\n",
    "    L = tril(matice, k = -1)\n",
    "    U = triu(matice, k = 1 )\n",
    "    for i in range(opakovani):\n",
    "        x = (vektor - np.matmul((L + U),x))/D\n",
    "    return list(x)\n",
    "\n",
    "\n",
    "print(vytvor_ctvercovou_matici(2))\n",
    "print(vytvor_ctvercovou_matici(3))\n",
    "print(vytvor_ctvercovou_matici(4))\n",
    "print(vytvor_vektor(3))\n",
    "#iterani metoda\n",
    "\n",
    "print(gaussova_prima_metoda([[2, 1],[5, 7]], [11,13]))\n",
    "jacobiho_iteracni_metoda([[2, 1],[5, 7]], [11,13])"
   ]
  }
 ],
 "metadata": {
  "interpreter": {
   "hash": "d9ed74bc2b01a6ca8adeca51a7f7b69f654e210705af0e04fd6b76d0576b2bd9"
  },
  "kernelspec": {
   "display_name": "Python 3.10.4 ('venv': venv)",
   "language": "python",
   "name": "python3"
  },
  "language_info": {
   "codemirror_mode": {
    "name": "ipython",
    "version": 3
   },
   "file_extension": ".py",
   "mimetype": "text/x-python",
   "name": "python",
   "nbconvert_exporter": "python",
   "pygments_lexer": "ipython3",
   "version": "3.10.4"
  },
  "orig_nbformat": 4
 },
 "nbformat": 4,
 "nbformat_minor": 2
}
