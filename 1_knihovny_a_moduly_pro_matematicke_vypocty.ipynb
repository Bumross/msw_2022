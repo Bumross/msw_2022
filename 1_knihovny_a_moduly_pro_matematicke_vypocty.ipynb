{
 "cells": [
  {
   "cell_type": "markdown",
   "metadata": {},
   "source": [
    "## 1. Knihovny a moduly pro matematické výpočty"
   ]
  },
  {
   "cell_type": "markdown",
   "metadata": {},
   "source": [
    "### Integrace"
   ]
  },
  {
   "cell_type": "markdown",
   "metadata": {},
   "source": [
    "#### Pomocí knihovny scipy"
   ]
  },
  {
   "cell_type": "code",
   "execution_count": 9,
   "metadata": {},
   "outputs": [
    {
     "name": "stdout",
     "output_type": "stream",
     "text": [
      "Výpočet integrace je: 2.166666666666667\n",
      "Doba trvání výpočtu: 0.0\n"
     ]
    }
   ],
   "source": [
    "import scipy.integrate as integrate\n",
    "from time import process_time\n",
    "\n",
    "start = process_time()\n",
    "vysledek = integrate.quad(lambda x: (x**2-x+4)/4, 0, 2)\n",
    "konec = process_time()\n",
    "\n",
    "print(f\"Výpočet integrace je: {vysledek[0]}\\nDoba trvání výpočtu: {(konec - start)}\")"
   ]
  },
  {
   "cell_type": "markdown",
   "metadata": {},
   "source": [
    "#### Lichoběžníkovým pravidlem"
   ]
  },
  {
   "cell_type": "code",
   "execution_count": 2,
   "metadata": {},
   "outputs": [
    {
     "name": "stdout",
     "output_type": "stream",
     "text": [
      "Výpočet integrace je: 2.1668166712500403\n",
      "Doba trvání výpočtu: 0.0625\n"
     ]
    }
   ],
   "source": [
    "from time import process_time\n",
    "\n",
    "def f(x):\n",
    "    return (x**2-x+4)/4\n",
    "\n",
    "start = process_time()\n",
    "\n",
    "vysledek = 0\n",
    "x = 0\n",
    "b = 2\n",
    "dx = 0.0001\n",
    "\n",
    "while x < b:\n",
    "    vysledek += dx * (f(x) + f((x+dx)))/2\n",
    "    x += dx\n",
    "\n",
    "konec = process_time()\n",
    "\n",
    "print(f\"Výpočet integrace je: {vysledek}\\nDoba trvání výpočtu: {(konec - start)}\")"
   ]
  },
  {
   "cell_type": "markdown",
   "metadata": {},
   "source": [
    "### Skalární součin"
   ]
  },
  {
   "cell_type": "markdown",
   "metadata": {},
   "source": [
    "#### Skalárání součin pomocí knihovny numpy"
   ]
  },
  {
   "cell_type": "code",
   "execution_count": 3,
   "metadata": {},
   "outputs": [
    {
     "name": "stdout",
     "output_type": "stream",
     "text": [
      "Skalární součin je: 107\n",
      "Doba trvání výpočtu: 0.0\n"
     ]
    }
   ],
   "source": [
    "import numpy as np\n",
    "from time import process_time\n",
    "\n",
    "\n",
    "start = process_time()\n",
    "\n",
    "a = np.array([3, 9, 5])\n",
    "b = np.array([8, 7, 4])\n",
    "\n",
    "vysledek = sum(a*b)\n",
    "\n",
    "konec = process_time()\n",
    "\n",
    "print(f\"Skalární součin je: {vysledek}\\nDoba trvání výpočtu: {(konec - start)}\")"
   ]
  },
  {
   "cell_type": "markdown",
   "metadata": {},
   "source": [
    "#### Skalární součin pomocí for cyklu"
   ]
  },
  {
   "cell_type": "code",
   "execution_count": 4,
   "metadata": {},
   "outputs": [
    {
     "name": "stdout",
     "output_type": "stream",
     "text": [
      "Skalární součin je 107\n",
      "Doba trvání výpočtu: 0.0\n"
     ]
    }
   ],
   "source": [
    "from time import process_time\n",
    "\n",
    "\n",
    "start = process_time()\n",
    "\n",
    "vysledek = 0\n",
    "a = (3, 9, 5)\n",
    "b = (8, 7, 4)\n",
    "\n",
    "for i in range(len(a)):\n",
    "    vysledek += a[i]*b[i]\n",
    "\n",
    "konec = process_time()\n",
    "\n",
    "print(f\"Skalární součin je {vysledek}\\nDoba trvání výpočtu: {(konec - start)}\")"
   ]
  },
  {
   "cell_type": "markdown",
   "metadata": {},
   "source": [
    "### Násobení matice"
   ]
  },
  {
   "cell_type": "markdown",
   "metadata": {},
   "source": [
    "#### Pomocí knihovny numpy"
   ]
  },
  {
   "cell_type": "code",
   "execution_count": 120,
   "metadata": {},
   "outputs": [
    {
     "name": "stdout",
     "output_type": "stream",
     "text": [
      "Matice je [[  250 11900  8650]\n",
      " [  575 16875   550]\n",
      " [  875 33900  1050]]\n",
      "Doba trvání výpočtu: 0.0\n"
     ]
    }
   ],
   "source": [
    "import numpy as np\n",
    "\n",
    "start = process_time()\n",
    "\n",
    "matice = [[10, 476, 346], [23, 675, 22], [35, 1356, 42]]\n",
    "vysledek = np.array(matice)*25\n",
    "konec = process_time()\n",
    "\n",
    "print(f\"Matice je {vysledek}\\nDoba trvání výpočtu: {(konec - start)}\")"
   ]
  },
  {
   "cell_type": "markdown",
   "metadata": {},
   "source": [
    "#### Pomocí cyklu"
   ]
  },
  {
   "cell_type": "code",
   "execution_count": 121,
   "metadata": {},
   "outputs": [
    {
     "name": "stdout",
     "output_type": "stream",
     "text": [
      "Matice je [[250, 11900, 8650], [575, 16875, 550], [875, 33900, 1050]]\n",
      "Doba trvání výpočtu: 0.0\n"
     ]
    }
   ],
   "source": [
    "start = process_time()\n",
    "\n",
    "matice = [[10, 476, 346], [23, 675, 22], [35, 1356, 42]]\n",
    "\n",
    "for i in range(len(matice)):\n",
    "    for j in range(len(matice[0])):\n",
    "        matice[i][j] = matice[i][j]*25\n",
    "\n",
    "konec = process_time()\n",
    "\n",
    "print(f\"Matice je {matice}\\nDoba trvání výpočtu: {(konec - start)}\")"
   ]
  },
  {
   "cell_type": "markdown",
   "metadata": {},
   "source": [
    "### Derivace"
   ]
  },
  {
   "cell_type": "markdown",
   "metadata": {},
   "source": [
    "#### Pomocí knihovny sympy"
   ]
  },
  {
   "cell_type": "code",
   "execution_count": 58,
   "metadata": {},
   "outputs": [
    {
     "name": "stdout",
     "output_type": "stream",
     "text": [
      "Derivace je -4/49\n",
      "Doba trvání výpočtu: 0.0\n"
     ]
    }
   ],
   "source": [
    "from sympy import *\n",
    "from time import process_time\n",
    "\n",
    "\n",
    "def derivace_sym(funkce, promenna, hodnota):\n",
    "    promenna = symbols(\"a\")\n",
    "    derivace = diff(funkce, promenna)\n",
    "    return (derivace.subs(a, hodnota)).doit()\n",
    "    \n",
    "start = process_time()\n",
    "funkce = (4*a**2)*(a**-3)\n",
    "vysledek = derivace_sym(funkce, a, 7)\n",
    "\n",
    "konec = process_time()\n",
    "print(f\"Derivace je {vysledek}\\nDoba trvání výpočtu: {(konec - start)}\")"
   ]
  },
  {
   "cell_type": "markdown",
   "metadata": {},
   "source": [
    "#### Pomocí vlastní funkce"
   ]
  },
  {
   "cell_type": "code",
   "execution_count": 57,
   "metadata": {},
   "outputs": [
    {
     "name": "stdout",
     "output_type": "stream",
     "text": [
      "Derivace funkce je -0.0816209929193068\n",
      "Doba trvání výpočtu: 0.0\n"
     ]
    }
   ],
   "source": [
    "from time import process_time\n",
    "\n",
    "\n",
    "def f(x):\n",
    "    return (4*x**2)*(x**-3)\n",
    "\n",
    "def derivace(funkce, hodnota, h=0.001):\n",
    "    return (funkce(hodnota+h) - funkce(hodnota))/h\n",
    "\n",
    "start = process_time()\n",
    "\n",
    "vysledek = derivace(f, 7)\n",
    "\n",
    "konec = process_time()\n",
    "\n",
    "print(f\"Derivace funkce je {vysledek}\\nDoba trvání výpočtu: {(konec - start)}\")"
   ]
  },
  {
   "cell_type": "markdown",
   "metadata": {},
   "source": [
    "### Výpočet faktoriálu"
   ]
  },
  {
   "cell_type": "markdown",
   "metadata": {},
   "source": [
    "#### Pomocí knihovny math"
   ]
  },
  {
   "cell_type": "code",
   "execution_count": 12,
   "metadata": {},
   "outputs": [
    {
     "name": "stdout",
     "output_type": "stream",
     "text": [
      "Faktoriál z čísla 46789 je 7694678415...\n",
      "Doba trvání výpočtu: 0.046875\n"
     ]
    }
   ],
   "source": [
    "from math import factorial\n",
    "from time import process_time\n",
    "\n",
    "\n",
    "start = process_time()\n",
    "x = 46789\n",
    "vysledek = factorial(x)\n",
    "konec = process_time()\n",
    "vysledek = str(vysledek)\n",
    "\n",
    "\n",
    "print(f\"Faktoriál z čísla {x} je {vysledek[:10]}...\\nDoba trvání výpočtu: {(konec - start)}\")"
   ]
  },
  {
   "cell_type": "markdown",
   "metadata": {},
   "source": [
    "#### Pomocí cyklu"
   ]
  },
  {
   "cell_type": "code",
   "execution_count": 13,
   "metadata": {},
   "outputs": [
    {
     "name": "stdout",
     "output_type": "stream",
     "text": [
      "Faktoriál z čísla 46789 je 7694678415...\n",
      "Doba trvání výpočtu: 1.09375\n"
     ]
    }
   ],
   "source": [
    "start = process_time()\n",
    "x = 46789\n",
    "vysledek = 1\n",
    "\n",
    "for i in range(1, x+1):\n",
    "    vysledek = vysledek * i \n",
    "\n",
    "konec = process_time()\n",
    "vysledek = str(vysledek)\n",
    "\n",
    "print(f\"Faktoriál z čísla {x} je {vysledek[:10]}...\\nDoba trvání výpočtu: {(konec - start)}\")"
   ]
  }
 ],
 "metadata": {
  "interpreter": {
   "hash": "95c7bf6428f2a947d4a8366dfac4faa9731bb83d073f66eded60242c324aacdd"
  },
  "kernelspec": {
   "display_name": "Python 3.10.4 ('venv': venv)",
   "language": "python",
   "name": "python3"
  },
  "language_info": {
   "codemirror_mode": {
    "name": "ipython",
    "version": 3
   },
   "file_extension": ".py",
   "mimetype": "text/x-python",
   "name": "python",
   "nbconvert_exporter": "python",
   "pygments_lexer": "ipython3",
   "version": "3.10.4"
  },
  "orig_nbformat": 4
 },
 "nbformat": 4,
 "nbformat_minor": 2
}
