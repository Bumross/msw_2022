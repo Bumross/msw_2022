{
 "cells": [
  {
   "cell_type": "markdown",
   "metadata": {},
   "source": [
    "## 1. Knihovny a moduly pro matematické výpočty"
   ]
  },
  {
   "cell_type": "markdown",
   "metadata": {},
   "source": [
    "### Integrace"
   ]
  },
  {
   "cell_type": "markdown",
   "metadata": {},
   "source": [
    "#### Pomocí knihovny scipy"
   ]
  },
  {
   "cell_type": "code",
   "execution_count": 76,
   "metadata": {},
   "outputs": [
    {
     "name": "stdout",
     "output_type": "stream",
     "text": [
      "Výpočet integrace je: 2.166666666666667\n",
      "Doba trvání výpočtu: 0.0\n"
     ]
    }
   ],
   "source": [
    "import scipy.integrate as integrate\n",
    "from time import process_time\n",
    "\n",
    "start = process_time()\n",
    "vysledek = integrate.quad(lambda x: (x**2-x+4)/4, 0, 2)\n",
    "konec = process_time()\n",
    "\n",
    "print(f\"Výpočet integrace je: {vysledek[0]}\\nDoba trvání výpočtu: {(konec - start)}\")"
   ]
  },
  {
   "cell_type": "markdown",
   "metadata": {},
   "source": [
    "#### Lichoběžníkovým pravidlem"
   ]
  },
  {
   "cell_type": "code",
   "execution_count": 77,
   "metadata": {},
   "outputs": [
    {
     "name": "stdout",
     "output_type": "stream",
     "text": [
      "Výpočet integrace je: 2.1668166712500403\n",
      "Doba trvání výpočtu: 0.140625\n"
     ]
    }
   ],
   "source": [
    "def f(x):\n",
    "    return (x**2-x+4)/4\n",
    "\n",
    "start = process_time()\n",
    "\n",
    "vysledek = 0\n",
    "x = 0\n",
    "b = 2\n",
    "dx = 0.0001\n",
    "\n",
    "while x < b:\n",
    "    vysledek += dx * (f(x) + f((x+dx)))/2\n",
    "    x += dx\n",
    "\n",
    "konec = process_time()\n",
    "\n",
    "print(f\"Výpočet integrace je: {vysledek}\\nDoba trvání výpočtu: {(konec - start)}\")"
   ]
  },
  {
   "cell_type": "markdown",
   "metadata": {},
   "source": [
    "### Skalární součin"
   ]
  },
  {
   "cell_type": "markdown",
   "metadata": {},
   "source": [
    "#### Skalárání součin pomocí knihovny numpy"
   ]
  },
  {
   "cell_type": "code",
   "execution_count": 78,
   "metadata": {},
   "outputs": [
    {
     "name": "stdout",
     "output_type": "stream",
     "text": [
      "Skalární součin je: 107\n",
      "Doba trvání výpočtu: 0.0\n"
     ]
    }
   ],
   "source": [
    "import numpy as np\n",
    "\n",
    "start = process_time()\n",
    "\n",
    "a = np.array([3, 9, 5])\n",
    "b = np.array([8, 7, 4])\n",
    "\n",
    "vysledek = sum(a*b)\n",
    "\n",
    "konec = process_time()\n",
    "\n",
    "print(f\"Skalární součin je: {vysledek}\\nDoba trvání výpočtu: {(konec - start)}\")"
   ]
  },
  {
   "cell_type": "markdown",
   "metadata": {},
   "source": [
    "#### Skalární součin pomocí for cyklu"
   ]
  },
  {
   "cell_type": "code",
   "execution_count": 79,
   "metadata": {},
   "outputs": [
    {
     "name": "stdout",
     "output_type": "stream",
     "text": [
      "Skalární součin je 107\n",
      "Doba trvání výpočtu: 0.0\n"
     ]
    }
   ],
   "source": [
    "start = process_time()\n",
    "\n",
    "vysledek = 0\n",
    "a = (3, 9, 5)\n",
    "b = (8, 7, 4)\n",
    "\n",
    "for i in range(len(a)):\n",
    "    vysledek += a[i]*b[i]\n",
    "\n",
    "konec = process_time()\n",
    "\n",
    "print(f\"Skalární součin je {vysledek}\\nDoba trvání výpočtu: {(konec - start)}\")"
   ]
  },
  {
   "cell_type": "markdown",
   "metadata": {},
   "source": [
    "### Násobení matice"
   ]
  },
  {
   "cell_type": "markdown",
   "metadata": {},
   "source": [
    "#### Pomocí knihovny numpy"
   ]
  },
  {
   "cell_type": "code",
   "execution_count": 120,
   "metadata": {},
   "outputs": [
    {
     "name": "stdout",
     "output_type": "stream",
     "text": [
      "Matice je [[  250 11900  8650]\n",
      " [  575 16875   550]\n",
      " [  875 33900  1050]]\n",
      "Doba trvání výpočtu: 0.0\n"
     ]
    }
   ],
   "source": [
    "import numpy as np\n",
    "\n",
    "start = process_time()\n",
    "\n",
    "matice = [[10, 476, 346], [23, 675, 22], [35, 1356, 42]]\n",
    "vysledek = np.array(matice)*25\n",
    "konec = process_time()\n",
    "\n",
    "print(f\"Matice je {vysledek}\\nDoba trvání výpočtu: {(konec - start)}\")"
   ]
  },
  {
   "cell_type": "markdown",
   "metadata": {},
   "source": [
    "#### Pomocí cyklu"
   ]
  },
  {
   "cell_type": "code",
   "execution_count": 121,
   "metadata": {},
   "outputs": [
    {
     "name": "stdout",
     "output_type": "stream",
     "text": [
      "Matice je [[250, 11900, 8650], [575, 16875, 550], [875, 33900, 1050]]\n",
      "Doba trvání výpočtu: 0.0\n"
     ]
    }
   ],
   "source": [
    "start = process_time()\n",
    "\n",
    "matice = [[10, 476, 346], [23, 675, 22], [35, 1356, 42]]\n",
    "\n",
    "for i in range(len(matice)):\n",
    "    for j in range(len(matice[0])):\n",
    "        matice[i][j] = matice[i][j]*25\n",
    "\n",
    "konec = process_time()\n",
    "\n",
    "print(f\"Matice je {matice}\\nDoba trvání výpočtu: {(konec - start)}\")"
   ]
  },
  {
   "cell_type": "markdown",
   "metadata": {},
   "source": [
    "### Kořeny kvadratické rovnice"
   ]
  },
  {
   "cell_type": "markdown",
   "metadata": {},
   "source": [
    "#### Pomocí knihovny numpy"
   ]
  },
  {
   "cell_type": "code",
   "execution_count": 2,
   "metadata": {},
   "outputs": [
    {
     "name": "stdout",
     "output_type": "stream",
     "text": [
      "Kořeny kvadratické rovnice jsou [4.88600094 0.61399906]\n",
      "Doba trvání výpočtu: 0.0\n"
     ]
    }
   ],
   "source": [
    "import numpy as np\n",
    "from time import process_time\n",
    "\n",
    "start = process_time()\n",
    "# rovnice: 6*x**2 + 11*x - 35\n",
    "# koeficienty: a=6, b=11, c=-35\n",
    "\n",
    "koeficienty = [-2, 11, -6]\n",
    "vysledek = np.roots(koeficienty)\n",
    "\n",
    "\n",
    "konec = process_time()\n",
    "\n",
    "print(f\"Kořeny kvadratické rovnice jsou {vysledek}\\nDoba trvání výpočtu: {(konec - start)}\")"
   ]
  },
  {
   "cell_type": "code",
   "execution_count": 3,
   "metadata": {},
   "outputs": [
    {
     "name": "stdout",
     "output_type": "stream",
     "text": [
      "Kořeny kvadratické rovnice jsou [-126.0]\n",
      "Doba trvání výpočtu: 0.0\n"
     ]
    }
   ],
   "source": [
    "import math\n",
    "from time import process_time\n",
    "\n",
    "start = process_time()\n",
    "\n",
    "# rovnice: 6*x**2 + 11*x - 35\n",
    "# koeficienty: a=6, b=11, c=-35\n",
    "\n",
    "a, b, c = 6, 11, -35\n",
    "\n",
    "vysledek = []\n",
    "determinant = b**2 - (4*a*c)\n",
    "\n",
    "vysledek.append((((-b) - math.sqrt(determinant)))/2*a)\n",
    "\n",
    "konec = process_time()\n",
    "\n",
    "print(f\"Kořeny kvadratické rovnice jsou {vysledek}\\nDoba trvání výpočtu: {(konec - start)}\")"
   ]
  }
 ],
 "metadata": {
  "interpreter": {
   "hash": "d9ed74bc2b01a6ca8adeca51a7f7b69f654e210705af0e04fd6b76d0576b2bd9"
  },
  "kernelspec": {
   "display_name": "Python 3.10.4 ('venv': venv)",
   "language": "python",
   "name": "python3"
  },
  "language_info": {
   "codemirror_mode": {
    "name": "ipython",
    "version": 3
   },
   "file_extension": ".py",
   "mimetype": "text/x-python",
   "name": "python",
   "nbconvert_exporter": "python",
   "pygments_lexer": "ipython3",
   "version": "3.10.4"
  },
  "orig_nbformat": 4
 },
 "nbformat": 4,
 "nbformat_minor": 2
}
