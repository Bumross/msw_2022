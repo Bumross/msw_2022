{
 "cells": [
  {
   "cell_type": "markdown",
   "metadata": {},
   "source": [
    "## 1. Knihovny a moduly pro matematické výpočty"
   ]
  },
  {
   "cell_type": "markdown",
   "metadata": {},
   "source": [
    "### Integrace"
   ]
  },
  {
   "cell_type": "markdown",
   "metadata": {},
   "source": [
    "#### Pomocí knihovny scipy"
   ]
  },
  {
   "cell_type": "code",
   "execution_count": 18,
   "metadata": {},
   "outputs": [
    {
     "name": "stdout",
     "output_type": "stream",
     "text": [
      "(2.166666666666667, 2.4054832200211727e-14), doba trvání výpočtu: 0.0\n"
     ]
    }
   ],
   "source": [
    "import scipy.integrate as integrate\n",
    "from time import process_time\n",
    "\n",
    "start = process_time()\n",
    "vysledek = integrate.quad(lambda x: (x**2-x+4)/4, 0, 2)\n",
    "konec = process_time()\n",
    "\n",
    "print(f\"{vysledek}, doba trvání výpočtu: {(konec - start)}\")"
   ]
  },
  {
   "cell_type": "markdown",
   "metadata": {},
   "source": [
    "#### Integrace lichoběžníkovým pravidlem"
   ]
  },
  {
   "cell_type": "code",
   "execution_count": 19,
   "metadata": {},
   "outputs": [
    {
     "name": "stdout",
     "output_type": "stream",
     "text": [
      "2.1668166712500403, doba trvání výpočtu: 0.015625\n"
     ]
    }
   ],
   "source": [
    "def f(x):\n",
    "    return (x**2-x+4)/4\n",
    "\n",
    "start = process_time()\n",
    "\n",
    "vysledek = 0\n",
    "x = 0\n",
    "b = 2\n",
    "dx = 0.0001\n",
    "\n",
    "while x < b:\n",
    "    vysledek += dx * (f(x) + f((x+dx)))/2\n",
    "    x += dx\n",
    "\n",
    "konec = process_time()\n",
    "\n",
    "print(f\"{vysledek}, doba trvání výpočtu: {(konec - start)}\")"
   ]
  }
 ],
 "metadata": {
  "interpreter": {
   "hash": "d9ed74bc2b01a6ca8adeca51a7f7b69f654e210705af0e04fd6b76d0576b2bd9"
  },
  "kernelspec": {
   "display_name": "Python 3.10.4 ('venv': venv)",
   "language": "python",
   "name": "python3"
  },
  "language_info": {
   "codemirror_mode": {
    "name": "ipython",
    "version": 3
   },
   "file_extension": ".py",
   "mimetype": "text/x-python",
   "name": "python",
   "nbconvert_exporter": "python",
   "pygments_lexer": "ipython3",
   "version": "3.10.4"
  },
  "orig_nbformat": 4
 },
 "nbformat": 4,
 "nbformat_minor": 2
}
